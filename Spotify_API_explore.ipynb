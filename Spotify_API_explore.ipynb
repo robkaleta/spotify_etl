{
 "cells": [
  {
   "cell_type": "markdown",
   "id": "86c7661f-5e71-4c05-9ab8-79b39d6c0771",
   "metadata": {},
   "source": [
    "# Spotify ETL Pipeline - local version"
   ]
  },
  {
   "cell_type": "code",
   "execution_count": 173,
   "id": "8ac5f8a5-41b2-45f8-b03b-9bb2fa763886",
   "metadata": {
    "tags": []
   },
   "outputs": [],
   "source": [
    "import spotipy\n",
    "from spotipy.oauth2 import SpotifyClientCredentials\n",
    "import pandas as pd\n",
    "from datetime import datetime\n",
    "from dotenv import load_dotenv\n",
    "import os"
   ]
  },
  {
   "cell_type": "markdown",
   "id": "02b985bf-bcdb-4cd2-a47b-912fa6b60dea",
   "metadata": {},
   "source": [
    "Load Spotify credentials from `.env` file"
   ]
  },
  {
   "cell_type": "code",
   "execution_count": 174,
   "id": "d79d6b50-be5a-4b5e-b9a3-320f11220752",
   "metadata": {
    "tags": []
   },
   "outputs": [
    {
     "data": {
      "text/plain": [
       "True"
      ]
     },
     "execution_count": 174,
     "metadata": {},
     "output_type": "execute_result"
    }
   ],
   "source": [
    "load_dotenv()"
   ]
  },
  {
   "cell_type": "markdown",
   "id": "c2469ab3-8383-4d85-9750-ff2c0b34bf6f",
   "metadata": {},
   "source": [
    "Connect to Spotify API using the ID and Secret stored in `.env`"
   ]
  },
  {
   "cell_type": "code",
   "execution_count": 175,
   "id": "b7b6a6c1-d6ad-4afc-b402-c1320aa891d6",
   "metadata": {
    "tags": []
   },
   "outputs": [],
   "source": [
    "spotify = spotipy.Spotify(\n",
    "    client_credentials_manager=\n",
    "        SpotifyClientCredentials(\n",
    "            client_id = os.getenv('CLIENT_ID'),\n",
    "            client_secret = os.getenv('CLIENT_SECRET')\n",
    "                    ))"
   ]
  },
  {
   "cell_type": "markdown",
   "id": "337f4b50-3abf-4cec-a949-a437c9311bd9",
   "metadata": {},
   "source": [
    "Define a dictionary with playlists that you want to look into"
   ]
  },
  {
   "cell_type": "code",
   "execution_count": 176,
   "id": "90917564-a973-4d3a-a490-ef1c767c123d",
   "metadata": {
    "tags": []
   },
   "outputs": [],
   "source": [
    "playlists = {'rock':'spotify:playlist:37i9dQZF1DX4DZAVUAwHMT'}"
   ]
  },
  {
   "cell_type": "markdown",
   "id": "1e7e74b4-0721-481c-a1ef-870bacaffb11",
   "metadata": {},
   "source": [
    "Pull in playlist data for playlist above"
   ]
  },
  {
   "cell_type": "code",
   "execution_count": 177,
   "id": "0b031181-d6b3-4ff2-a609-c4e07a214f2c",
   "metadata": {
    "tags": []
   },
   "outputs": [],
   "source": [
    "playlist_tracks = spotify.playlist_tracks(playlist_id = playlists['rock'], market = 'GB')"
   ]
  },
  {
   "cell_type": "markdown",
   "id": "482dfe79-60e7-44b3-95f2-7467eab35099",
   "metadata": {},
   "source": [
    "See a list of keys in returned dictionary. Information about each track is contained in the `items` key"
   ]
  },
  {
   "cell_type": "code",
   "execution_count": 178,
   "id": "2c971372-8588-4ff7-affb-c24f8c658378",
   "metadata": {
    "tags": []
   },
   "outputs": [
    {
     "data": {
      "text/plain": [
       "dict_keys(['href', 'items', 'limit', 'next', 'offset', 'previous', 'total'])"
      ]
     },
     "execution_count": 178,
     "metadata": {},
     "output_type": "execute_result"
    }
   ],
   "source": [
    "playlist_tracks.keys()"
   ]
  },
  {
   "cell_type": "markdown",
   "id": "e92221ce-7809-4a46-8e7b-3318dd0d02f9",
   "metadata": {},
   "source": [
    "Data for each song is under the `track` key"
   ]
  },
  {
   "cell_type": "code",
   "execution_count": 9,
   "id": "f5d9c4d1-9ef1-4fba-87c9-2578c23d463f",
   "metadata": {
    "tags": []
   },
   "outputs": [
    {
     "data": {
      "text/plain": [
       "dict_keys(['added_at', 'added_by', 'is_local', 'primary_color', 'track', 'video_thumbnail'])"
      ]
     },
     "execution_count": 9,
     "metadata": {},
     "output_type": "execute_result"
    }
   ],
   "source": [
    "playlist_tracks['items'][0].keys()"
   ]
  },
  {
   "cell_type": "markdown",
   "id": "7f99be55-a10a-413a-a4a2-859d98e5c705",
   "metadata": {},
   "source": [
    "And each track has a bunch of data about it within its own dictionary"
   ]
  },
  {
   "cell_type": "code",
   "execution_count": 10,
   "id": "e72d2769-89ee-478e-8b48-e285e4d0935c",
   "metadata": {
    "collapsed": true,
    "jupyter": {
     "outputs_hidden": true
    },
    "tags": []
   },
   "outputs": [
    {
     "data": {
      "text/plain": [
       "{'added_at': '2023-06-29T23:00:00Z',\n",
       " 'added_by': {'external_urls': {'spotify': 'https://open.spotify.com/user/'},\n",
       "  'href': 'https://api.spotify.com/v1/users/',\n",
       "  'id': '',\n",
       "  'type': 'user',\n",
       "  'uri': 'spotify:user:'},\n",
       " 'is_local': False,\n",
       " 'primary_color': None,\n",
       " 'track': {'album': {'album_type': 'single',\n",
       "   'artists': [{'external_urls': {'spotify': 'https://open.spotify.com/artist/6Ad91Jof8Niiw0lGLLi3NW'},\n",
       "     'href': 'https://api.spotify.com/v1/artists/6Ad91Jof8Niiw0lGLLi3NW',\n",
       "     'id': '6Ad91Jof8Niiw0lGLLi3NW',\n",
       "     'name': 'YUNGBLUD',\n",
       "     'type': 'artist',\n",
       "     'uri': 'spotify:artist:6Ad91Jof8Niiw0lGLLi3NW'}],\n",
       "   'external_urls': {'spotify': 'https://open.spotify.com/album/4MwosQ9tTm95DAaHdoNs5E'},\n",
       "   'href': 'https://api.spotify.com/v1/albums/4MwosQ9tTm95DAaHdoNs5E',\n",
       "   'id': '4MwosQ9tTm95DAaHdoNs5E',\n",
       "   'images': [{'height': 640,\n",
       "     'url': 'https://i.scdn.co/image/ab67616d0000b273df5bd10ce6f6fc2723f892b4',\n",
       "     'width': 640},\n",
       "    {'height': 300,\n",
       "     'url': 'https://i.scdn.co/image/ab67616d00001e02df5bd10ce6f6fc2723f892b4',\n",
       "     'width': 300},\n",
       "    {'height': 64,\n",
       "     'url': 'https://i.scdn.co/image/ab67616d00004851df5bd10ce6f6fc2723f892b4',\n",
       "     'width': 64}],\n",
       "   'is_playable': True,\n",
       "   'name': 'Lowlife',\n",
       "   'release_date': '2023-06-07',\n",
       "   'release_date_precision': 'day',\n",
       "   'total_tracks': 1,\n",
       "   'type': 'album',\n",
       "   'uri': 'spotify:album:4MwosQ9tTm95DAaHdoNs5E'},\n",
       "  'artists': [{'external_urls': {'spotify': 'https://open.spotify.com/artist/6Ad91Jof8Niiw0lGLLi3NW'},\n",
       "    'href': 'https://api.spotify.com/v1/artists/6Ad91Jof8Niiw0lGLLi3NW',\n",
       "    'id': '6Ad91Jof8Niiw0lGLLi3NW',\n",
       "    'name': 'YUNGBLUD',\n",
       "    'type': 'artist',\n",
       "    'uri': 'spotify:artist:6Ad91Jof8Niiw0lGLLi3NW'}],\n",
       "  'disc_number': 1,\n",
       "  'duration_ms': 233626,\n",
       "  'episode': False,\n",
       "  'explicit': True,\n",
       "  'external_ids': {'isrc': 'USUG12303146'},\n",
       "  'external_urls': {'spotify': 'https://open.spotify.com/track/2kDApipZtTzjwGfKujcg2z'},\n",
       "  'href': 'https://api.spotify.com/v1/tracks/2kDApipZtTzjwGfKujcg2z',\n",
       "  'id': '2kDApipZtTzjwGfKujcg2z',\n",
       "  'is_local': False,\n",
       "  'is_playable': True,\n",
       "  'name': 'Lowlife',\n",
       "  'popularity': 69,\n",
       "  'preview_url': None,\n",
       "  'track': True,\n",
       "  'track_number': 1,\n",
       "  'type': 'track',\n",
       "  'uri': 'spotify:track:2kDApipZtTzjwGfKujcg2z'},\n",
       " 'video_thumbnail': {'url': None}}"
      ]
     },
     "execution_count": 10,
     "metadata": {},
     "output_type": "execute_result"
    }
   ],
   "source": [
    "playlist_tracks['items'][0]"
   ]
  },
  {
   "cell_type": "code",
   "execution_count": 11,
   "id": "304a5960-7a6a-4d86-9234-bf913c4ede0d",
   "metadata": {
    "tags": []
   },
   "outputs": [
    {
     "data": {
      "text/plain": [
       "dict_keys(['album', 'artists', 'disc_number', 'duration_ms', 'episode', 'explicit', 'external_ids', 'external_urls', 'href', 'id', 'is_local', 'is_playable', 'name', 'popularity', 'preview_url', 'track', 'track_number', 'type', 'uri'])"
      ]
     },
     "execution_count": 11,
     "metadata": {},
     "output_type": "execute_result"
    }
   ],
   "source": [
    "playlist_tracks['items'][0]['track'].keys()"
   ]
  },
  {
   "cell_type": "markdown",
   "id": "bc78d2fa-0c5c-40d7-aa10-ee21573c47df",
   "metadata": {},
   "source": [
    "We're going to build a function which will go through a playlist and identify all artists and their spotify URIs. This will end up in a dictionary \n",
    "\n",
    "{uri : artist}"
   ]
  },
  {
   "cell_type": "code",
   "execution_count": 179,
   "id": "5e4fbd61-142a-4801-ab3c-456ca0217cdb",
   "metadata": {
    "tags": []
   },
   "outputs": [],
   "source": [
    "from spotify_tools import get_artists_from_playlist"
   ]
  },
  {
   "cell_type": "code",
   "execution_count": 180,
   "id": "31482e51-321d-4566-8c28-f4cf008dad97",
   "metadata": {
    "tags": []
   },
   "outputs": [],
   "source": [
    "artists = get_artists_from_playlist(playlists['rock'])"
   ]
  },
  {
   "cell_type": "code",
   "execution_count": 181,
   "id": "f55dba81-cf77-4882-962c-2d57f21ce61b",
   "metadata": {
    "collapsed": true,
    "jupyter": {
     "outputs_hidden": true
    },
    "tags": []
   },
   "outputs": [
    {
     "data": {
      "text/plain": [
       "{'spotify:artist:6Ad91Jof8Niiw0lGLLi3NW': 'YUNGBLUD',\n",
       " 'spotify:artist:1kDGbuxWknIKx4FlgWxiSp': 'Nothing But Thieves',\n",
       " 'spotify:artist:1Ffb6ejR6Fe5IamqA5oRUF': 'Bring Me The Horizon',\n",
       " 'spotify:artist:1caBfBEapzw8z2Qz9q0OaQ': 'Asking Alexandria',\n",
       " 'spotify:artist:2n2RSaZqBuUUukhbLlpnE6': 'Sleep Token',\n",
       " 'spotify:artist:7jy3rLJdDQY21OgRLCZ9sD': 'Foo Fighters',\n",
       " 'spotify:artist:6blEmsLU25ewy8hHtgZaSL': 'Jazmin Bean',\n",
       " 'spotify:artist:1koutXdSFq2PHqtxSWj9tK': 'Hot Milk',\n",
       " 'spotify:artist:3Wcyta3gkOdQ4TfY0WyZpu': 'YONAKA',\n",
       " 'spotify:artist:0RqtSIYZmd4fiBKVFqyIqD': 'Thirty Seconds To Mars',\n",
       " 'spotify:artist:24XtlMhEMNdi822vi0MhY1': 'Taking Back Sunday',\n",
       " 'spotify:artist:0KDuKk6YdEu3hR56HtXmxt': 'Story Of The Year',\n",
       " 'spotify:artist:64EHXDoln95lnccszdPum0': 'Royal & the Serpent',\n",
       " 'spotify:artist:4UXqAaa6dQYAk18Lv7PEgX': 'Fall Out Boy',\n",
       " 'spotify:artist:4QxIol1JzAa4ePmDytv0e4': 'KID BRUNSWICK',\n",
       " 'spotify:artist:6ekYAO2D1JkI58CF4uRRqw': 'Tigercub',\n",
       " 'spotify:artist:7MhMgCo0Bl0Kukl93PZbYS': 'Blur',\n",
       " 'spotify:artist:1B0155rdv175D1tQ8VH7Oy': 'FEVER 333',\n",
       " 'spotify:artist:0vWCyXMrrvMlCcepuOJaGI': 'BOYS LIKE GIRLS',\n",
       " 'spotify:artist:1br1PqvafIUOis4rBUvv1H': 'STONE',\n",
       " 'spotify:artist:2tl280wIokrLjabzrSKTgU': 'Holding Absence',\n",
       " 'spotify:artist:2FXC3k01G6Gw61bmprjgqS': 'Hozier',\n",
       " 'spotify:artist:5ObBtv5VunwwhQaXXnUrsM': 'KennyHoopla',\n",
       " 'spotify:artist:2S5hlvw4CMtMGswFtfdK15': 'Royal Blood',\n",
       " 'spotify:artist:5N5jf98OOEf3uAIJpi1deD': 'The Royston Club',\n",
       " 'spotify:artist:3X8VK5wNpLQCVEo4sWBH2A': 'Cassyette',\n",
       " 'spotify:artist:4NpFxQe2UvRCAjto3JqlSl': 'Greta Van Fleet',\n",
       " 'spotify:artist:6oFs3qk4VepIVFdoD4jmsy': 'PVRIS',\n",
       " 'spotify:artist:74XFHRwlV6OrjEM0A2NCMF': 'Paramore',\n",
       " 'spotify:artist:4pejUc4iciQfgdX6OKulQn': 'Queens of the Stone Age',\n",
       " 'spotify:artist:5tFRohaO5yEsuJxmMnlCO9': 'Barns Courtney',\n",
       " 'spotify:artist:1kNQXvepPjaPgUfeDAF2h6': 'You Me At Six',\n",
       " 'spotify:artist:4SdIXLzfabqU61iK7SnKAU': 'G Flip',\n",
       " 'spotify:artist:2oVmQT6s29pVIKpqJkyxBS': 'Black Honey',\n",
       " 'spotify:artist:55VydwMyCuGcavwPuhutPL': 'The Used',\n",
       " 'spotify:artist:4fgXfJCQnK6c44u4KzAtQP': 'Sundara Karma',\n",
       " 'spotify:artist:31jvzuB4ikftPQZJwrYfCF': 'Enter Shikari',\n",
       " 'spotify:artist:6y7T3BaNMGAYgRbATEq4cM': 'NOAHFINNCE',\n",
       " 'spotify:artist:3hihvmS048d6bb8YlZaTU1': 'Lucia & The Best Boys',\n",
       " 'spotify:artist:2XIbOWDT5vZPW7jNyzdfcK': 'Caskets',\n",
       " 'spotify:artist:34LdbFt5sVXKTJOzf1iExQ': 'Bully',\n",
       " 'spotify:artist:4bzfsZhaLW6VWHLh1sqcrK': 'Meet Me @ The Altar',\n",
       " 'spotify:artist:0waXk4SsKZBRCf7kiwi6uL': 'PÆRISH',\n",
       " 'spotify:artist:0ofhRkasSdhp6LUs7tFcF7': 'WSTR',\n",
       " 'spotify:artist:79HbBkVgOVUuVhuTJ50pIx': 'Teenage Wrist',\n",
       " 'spotify:artist:2xtmoxSauQs0TQFUoHmbfy': 'Crawlers',\n",
       " 'spotify:artist:08p5D6BYuwPqGsFuIDLNFr': 'Another Sky',\n",
       " 'spotify:artist:4trP4C2bZ0TqMUxw0tLRAZ': 'Coach Party',\n",
       " 'spotify:artist:6FKokxvL5PCWIxrVhMyDgI': 'Demob Happy',\n",
       " 'spotify:artist:15QhuBSLfDNECfF8wvxj0M': 'The Mysterines',\n",
       " 'spotify:artist:2TM0qnbJH4QPhGMCdPt7fH': 'Neck Deep',\n",
       " 'spotify:artist:71NBOcJ9lMeXqnbnya1z0x': 'HIMALAYAS',\n",
       " 'spotify:artist:29WzbAQtDnBJF09es0uddn': 'Corinne Bailey Rae',\n",
       " 'spotify:artist:7sKlSlGo7d1D3dhFYKO0Y5': 'The XCERTS'}"
      ]
     },
     "execution_count": 181,
     "metadata": {},
     "output_type": "execute_result"
    }
   ],
   "source": [
    "artists"
   ]
  },
  {
   "cell_type": "markdown",
   "id": "b4dbfbce-b602-4aee-a98b-b396a7bce1b7",
   "metadata": {},
   "source": [
    "Next we need to build a function to pull in album data for each artist in the playlist. The goal is to produce a dictionary with the following information: \n",
    "\n",
    "{artist:\n",
    "\n",
    "Album_name:\n",
    "\n",
    "Album_Length:\n",
    "\n",
    "Year_Released:\n",
    "}"
   ]
  },
  {
   "cell_type": "markdown",
   "id": "13e49ef7-fd3e-4519-a3fc-fa87ae48547f",
   "metadata": {},
   "source": [
    "Let's have a look at the structure of album response"
   ]
  },
  {
   "cell_type": "code",
   "execution_count": 24,
   "id": "689906cf-c817-435c-a73b-fdf81e1de2c4",
   "metadata": {
    "tags": []
   },
   "outputs": [],
   "source": [
    "albums = spotify.artist_albums(artist_id = 'spotify:artist:7jy3rLJdDQY21OgRLCZ9sD', limit = 2, country = 'GB')"
   ]
  },
  {
   "cell_type": "code",
   "execution_count": 25,
   "id": "a5d7ee15-d22a-4c57-9300-07ceb2e3c15e",
   "metadata": {
    "tags": []
   },
   "outputs": [
    {
     "data": {
      "text/plain": [
       "dict_keys(['href', 'items', 'limit', 'next', 'offset', 'previous', 'total'])"
      ]
     },
     "execution_count": 25,
     "metadata": {},
     "output_type": "execute_result"
    }
   ],
   "source": [
    "albums.keys()"
   ]
  },
  {
   "cell_type": "code",
   "execution_count": 39,
   "id": "5a31d4e9-1148-48e7-9ced-a39c0f3645f7",
   "metadata": {
    "tags": []
   },
   "outputs": [
    {
     "data": {
      "text/plain": [
       "dict_keys(['album_group', 'album_type', 'artists', 'external_urls', 'href', 'id', 'images', 'is_playable', 'name', 'release_date', 'release_date_precision', 'total_tracks', 'type', 'uri'])"
      ]
     },
     "execution_count": 39,
     "metadata": {},
     "output_type": "execute_result"
    }
   ],
   "source": [
    "albums['items'][0].keys()"
   ]
  },
  {
   "cell_type": "code",
   "execution_count": null,
   "id": "4e335179-02d2-42a4-8a5d-62c506deced0",
   "metadata": {},
   "outputs": [],
   "source": []
  },
  {
   "cell_type": "code",
   "execution_count": 44,
   "id": "899ec4cb-e852-4d59-b197-a7cf85749fe8",
   "metadata": {
    "collapsed": true,
    "jupyter": {
     "outputs_hidden": true
    },
    "tags": []
   },
   "outputs": [
    {
     "data": {
      "text/plain": [
       "{'album_group': 'album',\n",
       " 'album_type': 'album',\n",
       " 'artists': [{'external_urls': {'spotify': 'https://open.spotify.com/artist/7jy3rLJdDQY21OgRLCZ9sD'},\n",
       "   'href': 'https://api.spotify.com/v1/artists/7jy3rLJdDQY21OgRLCZ9sD',\n",
       "   'id': '7jy3rLJdDQY21OgRLCZ9sD',\n",
       "   'name': 'Foo Fighters',\n",
       "   'type': 'artist',\n",
       "   'uri': 'spotify:artist:7jy3rLJdDQY21OgRLCZ9sD'}],\n",
       " 'external_urls': {'spotify': 'https://open.spotify.com/album/4wp4aWWpoYfNcspimVAnel'},\n",
       " 'href': 'https://api.spotify.com/v1/albums/4wp4aWWpoYfNcspimVAnel',\n",
       " 'id': '4wp4aWWpoYfNcspimVAnel',\n",
       " 'images': [{'height': 640,\n",
       "   'url': 'https://i.scdn.co/image/ab67616d0000b27384c85afa887f664fef3c5e8a',\n",
       "   'width': 640},\n",
       "  {'height': 300,\n",
       "   'url': 'https://i.scdn.co/image/ab67616d00001e0284c85afa887f664fef3c5e8a',\n",
       "   'width': 300},\n",
       "  {'height': 64,\n",
       "   'url': 'https://i.scdn.co/image/ab67616d0000485184c85afa887f664fef3c5e8a',\n",
       "   'width': 64}],\n",
       " 'is_playable': True,\n",
       " 'name': 'But Here We Are',\n",
       " 'release_date': '2023-06-02',\n",
       " 'release_date_precision': 'day',\n",
       " 'total_tracks': 10,\n",
       " 'type': 'album',\n",
       " 'uri': 'spotify:album:4wp4aWWpoYfNcspimVAnel'}"
      ]
     },
     "execution_count": 44,
     "metadata": {},
     "output_type": "execute_result"
    }
   ],
   "source": [
    "albums['items'][0]"
   ]
  },
  {
   "cell_type": "markdown",
   "id": "9dc67392-9721-4287-a22d-6d77d9d7e10d",
   "metadata": {},
   "source": [
    "Album URIs then go into another call where the information about tracks on each album is retrieved"
   ]
  },
  {
   "cell_type": "markdown",
   "id": "d59d9c5f-6b38-4a98-bad5-18d2948ea6a0",
   "metadata": {},
   "source": [
    "For each artist in the dictionary pull out the list of albums and then for each album calculate its length"
   ]
  },
  {
   "cell_type": "code",
   "execution_count": 190,
   "id": "b1ddba05-478e-46d6-baf4-9419f17651d4",
   "metadata": {
    "tags": []
   },
   "outputs": [],
   "source": [
    "def get_data(playlist):\n",
    "    # define output dictionary structure\n",
    "    final_data_dictionary = {\n",
    "    'Artist': [],\n",
    "    'Album Name': [],\n",
    "    'Year Released': [],\n",
    "    'Album Length': []  }\n",
    "\n",
    "    artists = get_artists_from_playlist(playlist)\n",
    "    for artist_key in artists:\n",
    "        artist_name = artists[artist_key]\n",
    "    \n",
    "        # pull out all albums by artist\n",
    "        albums_by_artist = spotify.artist_albums(artist_id = artist_key, country = 'GB',album_type='album', limit=50)\n",
    "\n",
    "        for album in albums_by_artist['items']:\n",
    "            # all album data \n",
    "            release_date = album['release_date']\n",
    "            album_name = album['name']\n",
    "            artist = album['artists'][0]['name']\n",
    "            album_uri = album['uri']\n",
    "\n",
    "            album_duration = 0\n",
    "            for song in spotify.album(album_uri, market = 'GB')['tracks']['items']:\n",
    "                album_duration += song['duration_ms']\n",
    "\n",
    "             # put final dictionary together\n",
    "            final_data_dictionary['Artist'].append(artist_name)\n",
    "            final_data_dictionary['Album Name'].append(album_name)\n",
    "            final_data_dictionary['Year Released'].append(release_date)\n",
    "            final_data_dictionary['Album Length'].append(album_duration)    \n",
    "            \n",
    "    return pd.DataFrame.from_dict(final_data_dictionary)\n",
    "            "
   ]
  },
  {
   "cell_type": "code",
   "execution_count": 191,
   "id": "fab89d89-8072-4a51-bbf5-9608117f1700",
   "metadata": {
    "tags": []
   },
   "outputs": [],
   "source": [
    "output_file = get_data(playlists['rock'])"
   ]
  },
  {
   "cell_type": "code",
   "execution_count": 169,
   "id": "c40d642e-762e-4996-a06d-ffa195f6b9ed",
   "metadata": {
    "tags": []
   },
   "outputs": [],
   "source": [
    "output_file.to_parquet('tmp/test.parquet')"
   ]
  }
 ],
 "metadata": {
  "kernelspec": {
   "display_name": "Python 3 (ipykernel)",
   "language": "python",
   "name": "python3"
  },
  "language_info": {
   "codemirror_mode": {
    "name": "ipython",
    "version": 3
   },
   "file_extension": ".py",
   "mimetype": "text/x-python",
   "name": "python",
   "nbconvert_exporter": "python",
   "pygments_lexer": "ipython3",
   "version": "3.11.2"
  }
 },
 "nbformat": 4,
 "nbformat_minor": 5
}
