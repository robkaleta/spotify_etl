{
 "cells": [
  {
   "cell_type": "code",
   "execution_count": 6,
   "id": "a4439284-dcb7-46de-a712-ab43b802cba7",
   "metadata": {
    "tags": []
   },
   "outputs": [],
   "source": [
    "import spotipy\n",
    "from spotipy.oauth2 import SpotifyClientCredentials\n",
    "import pandas as pd\n",
    "from datetime import datetime\n",
    "from dotenv import load_dotenv\n",
    "import os\n",
    "from spotify_tools import get_data, get_artists_from_playlist"
   ]
  },
  {
   "cell_type": "code",
   "execution_count": 2,
   "id": "1e052189-d9ea-46c4-aeab-9d343c2b77c4",
   "metadata": {
    "tags": []
   },
   "outputs": [],
   "source": [
    "playlists = {'rock':'spotify:playlist:37i9dQZF1DX4DZAVUAwHMT'}"
   ]
  },
  {
   "cell_type": "code",
   "execution_count": 4,
   "id": "500761b8-3905-4049-8995-90567b0e6181",
   "metadata": {
    "tags": []
   },
   "outputs": [],
   "source": [
    "output = get_data(playlists['rock'])"
   ]
  },
  {
   "cell_type": "code",
   "execution_count": 7,
   "id": "e6396d3b-87dc-485d-80ba-77f944c08116",
   "metadata": {
    "tags": []
   },
   "outputs": [],
   "source": [
    "test = pd.read_parquet('tmp/rock_albums.parquet')"
   ]
  }
 ],
 "metadata": {
  "kernelspec": {
   "display_name": "Python 3 (ipykernel)",
   "language": "python",
   "name": "python3"
  },
  "language_info": {
   "codemirror_mode": {
    "name": "ipython",
    "version": 3
   },
   "file_extension": ".py",
   "mimetype": "text/x-python",
   "name": "python",
   "nbconvert_exporter": "python",
   "pygments_lexer": "ipython3",
   "version": "3.11.2"
  }
 },
 "nbformat": 4,
 "nbformat_minor": 5
}
